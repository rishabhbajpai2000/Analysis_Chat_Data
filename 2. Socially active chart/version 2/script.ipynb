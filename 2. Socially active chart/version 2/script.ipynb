{
 "cells": [
  {
   "cell_type": "code",
   "execution_count": 1,
   "metadata": {},
   "outputs": [],
   "source": [
    "#importing regex for searching dates\n",
    "import re\n",
    "\n",
    "#importing counter for counting hour frequency\n",
    "from collections import Counter\n",
    "import collections\n",
    "\n",
    "#To plot the graphs\n",
    "import matplotlib.pyplot as plt\n",
    "\n",
    "#opening the file and making a list out of them \n",
    "listed_messages  = list(open('Data.txt',encoding = 'utf-8'))\n",
    "\n",
    "\n",
    "# Function to extract names from messages\n",
    "def list_names(list1):\n",
    "    name_list = []\n",
    "    for i in list1:\n",
    "        try:\n",
    "            ind = i.index(\"-\")\n",
    "            i = i[ind+2:]\n",
    "            ind_2 = i.index(\":\")\n",
    "            i = i[:ind_2]\n",
    "            name_list.append(i) \n",
    "        except:\n",
    "            pass\n",
    "    return name_list\n",
    "dict_freq = Counter(list_names(listed_messages))\n",
    "\n"
   ]
  },
  {
   "cell_type": "code",
   "execution_count": 4,
   "metadata": {},
   "outputs": [],
   "source": [
    "x = dict_freq\n",
    "# sorting the dictionary by values\n",
    "x = {k: v for k, v in sorted(x.items(), key=lambda item: item[1])}"
   ]
  },
  {
   "cell_type": "code",
   "execution_count": 8,
   "metadata": {},
   "outputs": [
    {
     "name": "stdout",
     "output_type": "stream",
     "text": [
      "oin/19\n",
      " 17/july (Saturday)/2\n",
      "eek\n",
      "2 is to be done by September10, 2021.Students are to pay the fee through Demand Draft or follow the following steps to deposit/transfer the College academic fee online and download the receipt of the payment made\n",
      "echnical trainings and avail the grand discount only through my link -https\n",
      "0\n",
      "y.sharepoint.com/\n",
      "> Ananya Raman (Treasurer)\n",
      "4\n",
      "CWE #1📝*\n",
      "ttp\n",
      "6\n",
      " https\n",
      "9\n",
      ".* http\n",
      " http\n",
      "equisites\n",
      "https\n",
      "i\n"
     ]
    }
   ],
   "source": [
    "# manually removing the default items from x dict\n",
    "i = 1\n",
    "while i != \"i\":\n",
    "    i = input(\"enter the key you want to remove\")\n",
    "    try:\n",
    "        x.pop(i)\n",
    "    except:\n",
    "        pass\n",
    "    print(i)"
   ]
  },
  {
   "cell_type": "code",
   "execution_count": 9,
   "metadata": {},
   "outputs": [
    {
     "data": {
      "text/plain": [
       "{'12': 1,\n",
       " '+91 95542 36058': 1,\n",
       " '+91 92054 16623': 1,\n",
       " '+91 79850 57997': 1,\n",
       " 'Santosh CS C': 2,\n",
       " 'Yashdeep Singh': 2,\n",
       " 'Sajal Chahan CS C': 2,\n",
       " 'Vishesh Cs C': 2,\n",
       " '+91 99279 10186': 2,\n",
       " '+91 73108 47400': 3,\n",
       " '+91 96257 70751': 3,\n",
       " 'Suryansh Tyagi Cs C': 3,\n",
       " '+91 88875 48366': 3,\n",
       " '': 3,\n",
       " 'Tanisha Jindal CS C': 4,\n",
       " 'Vinay Gupta Cs C': 4,\n",
       " 'Zubain Abes': 4,\n",
       " 'Rohit Kumar Gupta CS C': 5,\n",
       " '+91 86014 42147': 5,\n",
       " '+91 6392 917 523': 5,\n",
       " 'Shivarchan Sharma CS C': 7,\n",
       " '+91 89486 83597': 7,\n",
       " 'Vishal Gurzer Cs C': 7,\n",
       " 'Ritik Cs C': 7,\n",
       " '+91 86301 07481': 11,\n",
       " '+91 87917 47275': 15,\n",
       " 'Samajik Log': 16,\n",
       " '+91 93690 22973': 16,\n",
       " 'Tripti Agrawal Cs C': 18,\n",
       " 'U S CS C': 19,\n",
       " 'Shivangi CS C': 21,\n",
       " 'Venus CS C': 21,\n",
       " 'Shagun Kaushink CS C': 25,\n",
       " 'V CS C': 25,\n",
       " 'Ritvik CS C': 26,\n",
       " '+91 95190 93131': 27,\n",
       " 'Yash Saxena CS C': 30,\n",
       " 'Shubh CS C': 34,\n",
       " '+91 94553 04534': 36,\n",
       " 'Vaishnav Sharan CS C': 47,\n",
       " '+91 85330 49045': 47,\n",
       " 'Shubham Gupta CS C': 55,\n",
       " 'UD CS C': 56,\n",
       " '+91 79836 00861': 59,\n",
       " 'Rishabh CS C': 62,\n",
       " 'Shivanccha CS C': 64,\n",
       " 'Vishal Gupta CS C': 66,\n",
       " 'Somesh Bajpai CS C': 66,\n",
       " '+91 90584 89650': 66,\n",
       " 'Yash Bansal CS C': 72,\n",
       " 'Saksham Agrawal Cs C': 73,\n",
       " '+91 73909 57620': 74,\n",
       " 'Ritika Sharma Cs C': 104,\n",
       " '+91 90454 11600': 115,\n",
       " 'Saurabh Agrahari Cs C': 125,\n",
       " '+91 98914 42185': 146,\n",
       " 'Tanisha Verma CS C': 148,\n",
       " 'Suraj Verma': 149,\n",
       " 'Shrutti Nigam CS C': 150,\n",
       " 'Swarnima CS C': 207,\n",
       " '+91 6391 636 369': 240,\n",
       " 'Veenus CS C': 290,\n",
       " 'Sameer CS C': 290,\n",
       " 'Simran Yadav CS C': 317,\n",
       " 'Saurabh': 327,\n",
       " 'Vraddhi Verma CS C': 331,\n",
       " 'Raj Chauhan CS C': 354,\n",
       " 'Ratan Savarkar Cs C': 368,\n",
       " 'Vaaruni CS C': 385,\n",
       " 'Yash Verma CS C': 440,\n",
       " 'Rupesh Verma CS C': 458,\n",
       " 'Shreyansh CS C': 496,\n",
       " 'Sumit CS C': 549,\n",
       " 'Shagun Kesarwani CS C': 550,\n",
       " '𝑺𝒉𝒖𝒃𝒉𝒂𝒏𝒔𝒉 𝑪𝒔': 657,\n",
       " '3 Page Vishakha': 661,\n",
       " '+91 99119 07174': 694,\n",
       " 'Smeer Jha CS C': 783,\n",
       " 'Sanskaar Cs C': 788,\n",
       " '+91 83778 22068': 800,\n",
       " '+91 84481 41122': 906,\n",
       " 'Sahil CS C': 939,\n",
       " 'Tanya Mehta CS C': 1016,\n",
       " '+91 6394 087 585': 1051,\n",
       " 'Yogesh CS C': 1059,\n",
       " 'Sanjay Kr Singh CS C': 1169,\n",
       " 'Rishabh Bajpai': 1212,\n",
       " 'Saujanya Jain': 1253,\n",
       " 'Shicanshu CS C': 1286,\n",
       " 'Mehta Cs C': 1447,\n",
       " 'Rishabh_29 CS C': 1498,\n",
       " 'Shri Om CS C': 1595,\n",
       " 'Sagar CS C': 1713,\n",
       " 'Shreya Sahrma CS C': 2615,\n",
       " 'Vishakha CS C': 3060,\n",
       " 'Yuvraj Singh CS C': 7588}"
      ]
     },
     "execution_count": 9,
     "metadata": {},
     "output_type": "execute_result"
    }
   ],
   "source": [
    "x "
   ]
  },
  {
   "cell_type": "code",
   "execution_count": 10,
   "metadata": {},
   "outputs": [
    {
     "data": {
      "text/plain": [
       "dict"
      ]
     },
     "execution_count": 10,
     "metadata": {},
     "output_type": "execute_result"
    }
   ],
   "source": [
    "type(x)"
   ]
  },
  {
   "cell_type": "code",
   "execution_count": 13,
   "metadata": {},
   "outputs": [
    {
     "name": "stderr",
     "output_type": "stream",
     "text": [
      "C:\\Users\\risha\\AppData\\Local\\Programs\\Python\\Python39\\lib\\site-packages\\matplotlib\\backends\\backend_agg.py:240: RuntimeWarning: Glyph 119930 missing from current font.\n",
      "  font.set_text(s, 0.0, flags=flags)\n",
      "C:\\Users\\risha\\AppData\\Local\\Programs\\Python\\Python39\\lib\\site-packages\\matplotlib\\backends\\backend_agg.py:240: RuntimeWarning: Glyph 119945 missing from current font.\n",
      "  font.set_text(s, 0.0, flags=flags)\n",
      "C:\\Users\\risha\\AppData\\Local\\Programs\\Python\\Python39\\lib\\site-packages\\matplotlib\\backends\\backend_agg.py:240: RuntimeWarning: Glyph 119958 missing from current font.\n",
      "  font.set_text(s, 0.0, flags=flags)\n",
      "C:\\Users\\risha\\AppData\\Local\\Programs\\Python\\Python39\\lib\\site-packages\\matplotlib\\backends\\backend_agg.py:240: RuntimeWarning: Glyph 119939 missing from current font.\n",
      "  font.set_text(s, 0.0, flags=flags)\n",
      "C:\\Users\\risha\\AppData\\Local\\Programs\\Python\\Python39\\lib\\site-packages\\matplotlib\\backends\\backend_agg.py:240: RuntimeWarning: Glyph 119938 missing from current font.\n",
      "  font.set_text(s, 0.0, flags=flags)\n",
      "C:\\Users\\risha\\AppData\\Local\\Programs\\Python\\Python39\\lib\\site-packages\\matplotlib\\backends\\backend_agg.py:240: RuntimeWarning: Glyph 119951 missing from current font.\n",
      "  font.set_text(s, 0.0, flags=flags)\n",
      "C:\\Users\\risha\\AppData\\Local\\Programs\\Python\\Python39\\lib\\site-packages\\matplotlib\\backends\\backend_agg.py:240: RuntimeWarning: Glyph 119956 missing from current font.\n",
      "  font.set_text(s, 0.0, flags=flags)\n",
      "C:\\Users\\risha\\AppData\\Local\\Programs\\Python\\Python39\\lib\\site-packages\\matplotlib\\backends\\backend_agg.py:240: RuntimeWarning: Glyph 119914 missing from current font.\n",
      "  font.set_text(s, 0.0, flags=flags)\n",
      "C:\\Users\\risha\\AppData\\Local\\Programs\\Python\\Python39\\lib\\site-packages\\matplotlib\\backends\\backend_agg.py:203: RuntimeWarning: Glyph 119930 missing from current font.\n",
      "  font.set_text(s, 0, flags=flags)\n",
      "C:\\Users\\risha\\AppData\\Local\\Programs\\Python\\Python39\\lib\\site-packages\\matplotlib\\backends\\backend_agg.py:203: RuntimeWarning: Glyph 119945 missing from current font.\n",
      "  font.set_text(s, 0, flags=flags)\n",
      "C:\\Users\\risha\\AppData\\Local\\Programs\\Python\\Python39\\lib\\site-packages\\matplotlib\\backends\\backend_agg.py:203: RuntimeWarning: Glyph 119958 missing from current font.\n",
      "  font.set_text(s, 0, flags=flags)\n",
      "C:\\Users\\risha\\AppData\\Local\\Programs\\Python\\Python39\\lib\\site-packages\\matplotlib\\backends\\backend_agg.py:203: RuntimeWarning: Glyph 119939 missing from current font.\n",
      "  font.set_text(s, 0, flags=flags)\n",
      "C:\\Users\\risha\\AppData\\Local\\Programs\\Python\\Python39\\lib\\site-packages\\matplotlib\\backends\\backend_agg.py:203: RuntimeWarning: Glyph 119938 missing from current font.\n",
      "  font.set_text(s, 0, flags=flags)\n",
      "C:\\Users\\risha\\AppData\\Local\\Programs\\Python\\Python39\\lib\\site-packages\\matplotlib\\backends\\backend_agg.py:203: RuntimeWarning: Glyph 119951 missing from current font.\n",
      "  font.set_text(s, 0, flags=flags)\n",
      "C:\\Users\\risha\\AppData\\Local\\Programs\\Python\\Python39\\lib\\site-packages\\matplotlib\\backends\\backend_agg.py:203: RuntimeWarning: Glyph 119956 missing from current font.\n",
      "  font.set_text(s, 0, flags=flags)\n",
      "C:\\Users\\risha\\AppData\\Local\\Programs\\Python\\Python39\\lib\\site-packages\\matplotlib\\backends\\backend_agg.py:203: RuntimeWarning: Glyph 119914 missing from current font.\n",
      "  font.set_text(s, 0, flags=flags)\n"
     ]
    },
    {
     "data": {
      "image/png": "[encoded data removed]",
      "text/plain": [
       "<Figure size 432x288 with 1 Axes>"
      ]
     },
     "metadata": {
      "needs_background": "light"
     },
     "output_type": "display_data"
    }
   ],
   "source": [
    "m = list(x.values())\n",
    "n = list(x.keys())\n",
    "\n",
    "#plotting the graph \n",
    "plt.plot(n,m, \"r\")\n",
    "plt.xlabel(\"user name\")\n",
    "plt.ylabel(\"Number of messages\")\n",
    "plt.title(\"Frequency of Messages per user.\")\n",
    "plt.autoscale()"
   ]
  },
  {
   "cell_type": "code",
   "execution_count": 14,
   "metadata": {},
   "outputs": [
    {
     "data": {
      "image/png": "[encoded data removed]",
      "text/plain": [
       "<Figure size 432x288 with 1 Axes>"
      ]
     },
     "metadata": {
      "needs_background": "light"
     },
     "output_type": "display_data"
    }
   ],
   "source": [
    "m = list(x.values())\n",
    "n = list(x.keys())\n",
    "\n",
    "#plotting the graph \n",
    "plt.plot(n,m, \"r\")\n",
    "plt.xlabel(\"user name\")\n",
    "plt.ylabel(\"Number of messages\")\n",
    "plt.title(\"Frequency of Messages per user.\")\n",
    "plt."
   ]
  },
  {
   "cell_type": "code",
   "execution_count": null,
   "metadata": {},
   "outputs": [],
   "source": []
  }
 ],
 "metadata": {
  "interpreter": {
   "hash": "d9feab5a1f5d805ccfa6afac8eb9a08ce4745df9a38ca9beb1bb90cbf90b919c"
  },
  "kernelspec": {
   "display_name": "Python 3.9.7 64-bit",
   "language": "python",
   "name": "python3"
  },
  "language_info": {
   "codemirror_mode": {
    "name": "ipython",
    "version": 3
   },
   "file_extension": ".py",
   "mimetype": "text/x-python",
   "name": "python",
   "nbconvert_exporter": "python",
   "pygments_lexer": "ipython3",
   "version": "3.9.7"
  },
  "orig_nbformat": 4
 },
 "nbformat": 4,
 "nbformat_minor": 2
}

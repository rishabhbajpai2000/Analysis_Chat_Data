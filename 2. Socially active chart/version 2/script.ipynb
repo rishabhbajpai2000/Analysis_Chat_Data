{
 "cells": [
  {
   "cell_type": "code",
   "execution_count": 1,
   "metadata": {},
   "outputs": [],
   "source": [
    "#importing regex for searching dates\n",
    "import re\n",
    "\n",
    "#importing counter for counting hour frequency\n",
    "from collections import Counter\n",
    "import collections\n",
    "\n",
    "#To plot the graphs\n",
    "import matplotlib.pyplot as plt\n",
    "\n",
    "#opening the file and making a list out of them \n",
    "listed_messages  = list(open('Data.txt',encoding = 'utf-8'))\n",
    "\n",
    "\n",
    "# Function to extract names from messages\n",
    "def list_names(list1):\n",
    "    name_list = []\n",
    "    for i in list1:\n",
    "        try:\n",
    "            ind = i.index(\"-\")\n",
    "            i = i[ind+2:]\n",
    "            ind_2 = i.index(\":\")\n",
    "            i = i[:ind_2]\n",
    "            name_list.append(i) \n",
    "        except:\n",
    "            pass\n",
    "    return name_list\n",
    "\n",
    "# counting the users frequency\n",
    "dict_freq = Counter(list_names(listed_messages))\n",
    "\n"
   ]
  },
  {
   "cell_type": "code",
   "execution_count": 2,
   "metadata": {},
   "outputs": [
    {
     "data": {
      "text/plain": [
       "Counter({'Yogesh CS C': 1059,\n",
       "         'Sahil CS C': 939,\n",
       "         'Shri Om CS C': 1595,\n",
       "         'Sagar CS C': 1713,\n",
       "         '+91 83778 22068': 800,\n",
       "         'Shreya Sahrma CS C': 2615,\n",
       "         'Rupesh Verma CS C': 458,\n",
       "         'Vishakha CS C': 3060,\n",
       "         'Yuvraj Singh CS C': 7588,\n",
       "         'Simran Yadav CS C': 317,\n",
       "         'Tanya Mehta CS C': 1016,\n",
       "         'Raj Chauhan CS C': 354,\n",
       "         'Saurabh': 327,\n",
       "         'Rishabh_29 CS C': 1498,\n",
       "         'Sumit CS C': 549,\n",
       "         'Shagun Kesarwani CS C': 550,\n",
       "         'Rishabh Bajpai': 1212,\n",
       "         'Suraj Verma': 149,\n",
       "         '+91 90454 11600': 115,\n",
       "         'Ritvik CS C': 26,\n",
       "         'Shreyansh CS C': 496,\n",
       "         '+91 6394 087 585': 1051,\n",
       "         'Saujanya Jain': 1253,\n",
       "         'Veenus CS C': 290,\n",
       "         'Vaaruni CS C': 385,\n",
       "         'Vaishnav Sharan CS C': 47,\n",
       "         'Shicanshu CS C': 1286,\n",
       "         'Sanjay Kr Singh CS C': 1169,\n",
       "         'Vishal Gupta CS C': 66,\n",
       "         'Vraddhi Verma CS C': 331,\n",
       "         'Yash Verma CS C': 440,\n",
       "         'https': 10,\n",
       "         '6': 2,\n",
       "         'Shubham Gupta CS C': 55,\n",
       "         'Shivarchan Sharma CS C': 7,\n",
       "         '+91 6391 636 369': 240,\n",
       "         '+91 94553 04534': 36,\n",
       "         'Smeer Jha CS C': 783,\n",
       "         '+91 79836 00861': 59,\n",
       "         'Yash Bansal CS C': 72,\n",
       "         'Sameer CS C': 290,\n",
       "         'Shagun Kaushink CS C': 25,\n",
       "         'UD CS C': 56,\n",
       "         'Somesh Bajpai CS C': 66,\n",
       "         'equisites': 4,\n",
       "         'Swarnima CS C': 207,\n",
       "         'Shivanccha CS C': 64,\n",
       "         'Rishabh CS C': 62,\n",
       "         'Tanisha Verma CS C': 148,\n",
       "         'Yash Saxena CS C': 30,\n",
       "         'Rohit Kumar Gupta CS C': 5,\n",
       "         'V CS C': 25,\n",
       "         'Tanisha Jindal CS C': 4,\n",
       "         'Shrutti Nigam CS C': 150,\n",
       "         'Shubh CS C': 34,\n",
       "         'Shivangi CS C': 21,\n",
       "         'Santosh CS C': 2,\n",
       "         '+91 90584 89650': 66,\n",
       "         '12': 1,\n",
       "         ' http': 3,\n",
       "         '+91 86301 07481': 11,\n",
       "         'U S CS C': 19,\n",
       "         '+91 95190 93131': 27,\n",
       "         '+91 84481 41122': 906,\n",
       "         '+91 73108 47400': 3,\n",
       "         '+91 85330 49045': 47,\n",
       "         'Yashdeep Singh': 2,\n",
       "         '+91 96257 70751': 3,\n",
       "         'Sajal Chahan CS C': 2,\n",
       "         'Sanskaar Cs C': 788,\n",
       "         'Ratan Savarkar Cs C': 368,\n",
       "         '+91 98914 42185': 146,\n",
       "         'Mehta Cs C': 1447,\n",
       "         '3 Page Vishakha': 661,\n",
       "         'Saksham Agrawal Cs C': 73,\n",
       "         '+91 89486 83597': 7,\n",
       "         '+91 73909 57620': 74,\n",
       "         '𝑺𝒉𝒖𝒃𝒉𝒂𝒏𝒔𝒉 𝑪𝒔': 657,\n",
       "         ' https': 2,\n",
       "         'Saurabh Agrahari Cs C': 125,\n",
       "         'oin/19': 1,\n",
       "         'Venus CS C': 21,\n",
       "         '+91 99119 07174': 694,\n",
       "         'Vinay Gupta Cs C': 4,\n",
       "         'Tripti Agrawal Cs C': 18,\n",
       "         ' 17/july (Saturday)/2': 1,\n",
       "         'Zubain Abes': 4,\n",
       "         'eek': 1,\n",
       "         '9': 2,\n",
       "         'Suryansh Tyagi Cs C': 3,\n",
       "         '+91 86014 42147': 5,\n",
       "         'Samajik Log': 16,\n",
       "         'Vishal Gurzer Cs C': 7,\n",
       "         '2 is to be done by September10, 2021.Students are to pay the fee through Demand Draft or follow the following steps to deposit/transfer the College academic fee online and download the receipt of the payment made': 1,\n",
       "         'echnical trainings and avail the grand discount only through my link -https': 1,\n",
       "         '+91 93690 22973': 16,\n",
       "         'Ritik Cs C': 7,\n",
       "         '.* http': 2,\n",
       "         '+91 88875 48366': 3,\n",
       "         '': 3,\n",
       "         '0': 1,\n",
       "         'Ritika Sharma Cs C': 104,\n",
       "         '+91 87917 47275': 15,\n",
       "         'Vishesh Cs C': 2,\n",
       "         'y.sharepoint.com/': 1,\n",
       "         '> Ananya Raman (Treasurer)': 1,\n",
       "         '4': 1,\n",
       "         '+91 95542 36058': 1,\n",
       "         '+91 92054 16623': 1,\n",
       "         '+91 79850 57997': 1,\n",
       "         '+91 99279 10186': 2,\n",
       "         '+91 6392 917 523': 5,\n",
       "         'CWE #1📝*': 1,\n",
       "         'ttp': 1})"
      ]
     },
     "execution_count": 2,
     "metadata": {},
     "output_type": "execute_result"
    }
   ],
   "source": [
    "dict_freq"
   ]
  },
  {
   "cell_type": "code",
   "execution_count": null,
   "metadata": {},
   "outputs": [],
   "source": [
    "x = dict_freq\n",
    "# sorting the dictionary by values\n",
    "x = {k: v for k, v in sorted(x.items(), key=lambda item: item[1])}\n"
   ]
  },
  {
   "cell_type": "code",
   "execution_count": 5,
   "metadata": {},
   "outputs": [
    {
     "name": "stdout",
     "output_type": "stream",
     "text": [
      "12\n",
      "oin/19\n",
      "17/july (Saturday)/2\n",
      "eek\n",
      "2 is to be done by September10, 2021.Students are to pay the fee through Demand Draft or follow the following steps to deposit/transfer the College academic fee online and download the receipt of the payment made\n",
      "0\n",
      "echnical trainings and avail the grand discount only through my link -https\n",
      "y.sharepoint.com/\n",
      "> Ananya Raman (Treasurer)\n",
      "4\n",
      "CWE #1📝*\n",
      "ttp\n",
      "6\n",
      " https\n",
      "9\n",
      ".* http\n",
      " http\n",
      " \n",
      "equisites\n",
      "https\n",
      "i\n"
     ]
    }
   ],
   "source": [
    "# manually removing the default items from x dict\n",
    "i = 1\n",
    "while i != \"i\":\n",
    "    i = input(\"enter the key you want to remove\")\n",
    "    try:\n",
    "        x.pop(i)\n",
    "    except:\n",
    "        pass\n",
    "    print(i)"
   ]
  },
  {
   "cell_type": "code",
   "execution_count": 10,
   "metadata": {},
   "outputs": [
    {
     "data": {
      "image/png": "[encoded data removed]",
      "text/plain": [
       "<Figure size 432x288 with 1 Axes>"
      ]
     },
     "metadata": {
      "needs_background": "light"
     },
     "output_type": "display_data"
    }
   ],
   "source": [
    "m = list(x.values())\n",
    "n = list(x.keys())\n",
    "\n",
    "#plotting the graph \n",
    "plt.plot(n,m, \"r\")\n",
    "plt.xlabel(\"user name\")\n",
    "plt.ylabel(\"Number of messages\")\n",
    "plt.title(\"Frequency of Messages per user.\")\n",
    "\n",
    "# naming the elements in x axis to remove mess\n",
    "positions = (\"+91 95542 36058\",\"Yuvraj Singh CS C\")\n",
    "labels = (\"+91 95542 36058(0 mesgs)\",\"Yuvraj Singh CS C(7588 mesgs)\")\n",
    "plt.xticks(positions, labels)\n",
    "plt.show()"
   ]
  },
  {
   "cell_type": "code",
   "execution_count": 14,
   "metadata": {},
   "outputs": [],
   "source": [
    "#removing a font descripency\n",
    "a = n.index(\"𝑺𝒉𝒖𝒃𝒉𝒂𝒏𝒔𝒉 𝑪𝒔\")\n",
    "n[a] = \"Shubhansh CS\"\n",
    "\n",
    "# saving the list of users for use in another file\n",
    "list_user = open(\"list_user.txt\", \"w\")\n",
    "for element in n:\n",
    "    list_user.write(element + '\\n')\n",
    "list_user.close()"
   ]
  },
  {
   "cell_type": "code",
   "execution_count": null,
   "metadata": {},
   "outputs": [],
   "source": []
  }
 ],
 "metadata": {
  "interpreter": {
   "hash": "d9feab5a1f5d805ccfa6afac8eb9a08ce4745df9a38ca9beb1bb90cbf90b919c"
  },
  "kernelspec": {
   "display_name": "Python 3.9.7 64-bit",
   "language": "python",
   "name": "python3"
  },
  "language_info": {
   "codemirror_mode": {
    "name": "ipython",
    "version": 3
   },
   "file_extension": ".py",
   "mimetype": "text/x-python",
   "name": "python",
   "nbconvert_exporter": "python",
   "pygments_lexer": "ipython3",
   "version": "3.8.8"
  },
  "orig_nbformat": 4
 },
 "nbformat": 4,
 "nbformat_minor": 2
}

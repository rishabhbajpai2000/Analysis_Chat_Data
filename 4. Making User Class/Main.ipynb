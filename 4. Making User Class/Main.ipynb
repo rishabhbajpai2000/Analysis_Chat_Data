{
 "cells": [
  {
   "cell_type": "code",
   "execution_count": 74,
   "metadata": {},
   "outputs": [],
   "source": [
    "#opening the file and making a list out of them \n",
    "listed_messages  = list(open('Data.txt',encoding = 'utf-8'))\n",
    "list_user = list(open('list_user.txt',encoding = 'utf-8'))\n",
    "list_user2 = []\n",
    "\n",
    "# removing \\n from the last of every element of list_user\n",
    "for i in list_user:\n",
    "    list_user2.append(i[:-1])\n",
    "\n",
    "\n",
    "#calculating the average number of deleted messager per user. \n",
    "del_msgs_cntr = 0\n",
    "for i in listed_messages:\n",
    "    if \"deleted\" in i:\n",
    "        del_msgs_cntr += 1\n",
    "del_msg_ave_user = int(del_msgs_cntr/len(list_user2))\n"
   ]
  },
  {
   "cell_type": "code",
   "execution_count": 77,
   "metadata": {},
   "outputs": [],
   "source": [
    "# making user class, where you will be required to enter the name of the contact whose information is needed\n",
    "class User:\n",
    "\n",
    "    data = listed_messages\n",
    "    \n",
    "    def __init__(self, name):\n",
    "        self.name = name\n",
    "        \n",
    "\n",
    "\n",
    "    #making a list of all the messages\n",
    "    def all_mesgs(self):\n",
    "        l_all_mesgs = []\n",
    "        for i in self.data:\n",
    "            if self.name in i:\n",
    "                l_all_mesgs.append(i)\n",
    "        return l_all_mesgs\n",
    "\n",
    "\n",
    "\n",
    "    #finding total length of all the messages combined\n",
    "    def total_mesg_length(self, arg = \"m\") :\n",
    "        mesgs = self.all_mesgs()\n",
    "        t_m_l = 0 \n",
    "        for i in mesgs:\n",
    "           t_m_l += len(i) - (i.index(self.name) + len(self.name))\n",
    "\n",
    "        if arg == \"m\":\n",
    "            return f\"{self.name} sent {int(t_m_l/5)} messages, which in total were {t_m_l} charecters.\"\n",
    "        else:\n",
    "            return t_m_l\n",
    "            \n",
    "\n",
    "\n",
    "    # finding the average length of the messages\n",
    "    def av_msg_len(self,arg = \"\"):\n",
    "        tot_len = self.total_mesg_length(\"n\")\n",
    "        mesgs = self.all_mesgs()\n",
    "\n",
    "        if arg == \"n\":\n",
    "            return int(tot_len / len(mesgs)/ 5)\n",
    "        else:\n",
    "            return print(f\"{self.name}'s average message was {int(tot_len / len(mesgs)/ 5)} words long\")\n",
    "    \n",
    "    #finding the number of deleted messages\n",
    "    def del_msg(self, arg = ''):\n",
    "        del_m = 0\n",
    "        for i in self.all_mesgs():\n",
    "            if \"deleted\" in i:\n",
    "                del_m += 1\n",
    "        if arg == 'n':\n",
    "            return del_m\n",
    "        else:\n",
    "            return print(f\"{self.name} deleted {del_m} messages, where as class's average was {del_msg_ave_user}.\")\n",
    "    \n",
    "    #showing the graph of how the number of messages varies with time\n",
    "    # def \n",
    "        \n",
    "    \n"
   ]
  },
  {
   "cell_type": "code",
   "execution_count": 78,
   "metadata": {},
   "outputs": [
    {
     "name": "stdout",
     "output_type": "stream",
     "text": [
      "Rishabh Bajpai deleted 132 messages, where as class's average was 13.\n"
     ]
    }
   ],
   "source": [
    "# testing the user class\n",
    "rishabh = User(name = \"Rishabh Bajpai\")\n",
    "rishabh.all_mesgs()\n",
    "# rishabh.total_mesg_length()\n",
    "# rishabh.total_mesg_length(\"n\")\n",
    "# rishabh.av_msg_len()\n",
    "# rishabh.av_msg_len(\"n\")\n",
    "# rishabh.del_msg()\n"
   ]
  },
  {
   "cell_type": "code",
   "execution_count": 105,
   "metadata": {},
   "outputs": [
    {
     "data": {
      "text/plain": [
       "33.333333333333336"
      ]
     },
     "execution_count": 105,
     "metadata": {},
     "output_type": "execute_result"
    }
   ],
   "source": [
    "rishabh.av_msg_len()"
   ]
  },
  {
   "cell_type": "code",
   "execution_count": null,
   "metadata": {},
   "outputs": [],
   "source": []
  }
 ],
 "metadata": {
  "interpreter": {
   "hash": "d9feab5a1f5d805ccfa6afac8eb9a08ce4745df9a38ca9beb1bb90cbf90b919c"
  },
  "kernelspec": {
   "display_name": "Python 3.9.7 64-bit",
   "language": "python",
   "name": "python3"
  },
  "language_info": {
   "codemirror_mode": {
    "name": "ipython",
    "version": 3
   },
   "file_extension": ".py",
   "mimetype": "text/x-python",
   "name": "python",
   "nbconvert_exporter": "python",
   "pygments_lexer": "ipython3",
   "version": "3.9.7"
  },
  "orig_nbformat": 4
 },
 "nbformat": 4,
 "nbformat_minor": 2
}

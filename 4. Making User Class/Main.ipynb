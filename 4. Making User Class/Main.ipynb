{
 "cells": [
  {
   "cell_type": "code",
   "execution_count": 60,
   "metadata": {},
   "outputs": [
    {
     "data": {
      "text/plain": [
       "['+91 95542 36058',\n",
       " '+91 92054 16623',\n",
       " '+91 79850 57997',\n",
       " 'Santosh CS C',\n",
       " 'Yashdeep Singh',\n",
       " 'Sajal Chahan CS C',\n",
       " 'Vishesh Cs C',\n",
       " '+91 99279 10186',\n",
       " '+91 73108 47400',\n",
       " '+91 96257 70751',\n",
       " 'Suryansh Tyagi Cs C',\n",
       " '+91 88875 48366',\n",
       " 'Tanisha Jindal CS C',\n",
       " 'Vinay Gupta Cs C',\n",
       " 'Zubain Abes',\n",
       " 'Rohit Kumar Gupta CS C',\n",
       " '+91 86014 42147',\n",
       " '+91 6392 917 523',\n",
       " 'Shivarchan Sharma CS C',\n",
       " '+91 89486 83597',\n",
       " 'Vishal Gurzer Cs C',\n",
       " 'Ritik Cs C',\n",
       " '+91 86301 07481',\n",
       " '+91 87917 47275',\n",
       " 'Samajik Log',\n",
       " '+91 93690 22973',\n",
       " 'Tripti Agrawal Cs C',\n",
       " 'U S CS C',\n",
       " 'Shivangi CS C',\n",
       " 'Venus CS C',\n",
       " 'Shagun Kaushink CS C',\n",
       " 'V CS C',\n",
       " 'Ritvik CS C',\n",
       " '+91 95190 93131',\n",
       " 'Yash Saxena CS C',\n",
       " 'Shubh CS C',\n",
       " '+91 94553 04534',\n",
       " 'Vaishnav Sharan CS C',\n",
       " '+91 85330 49045',\n",
       " 'Shubham Gupta CS C',\n",
       " 'UD CS C',\n",
       " '+91 79836 00861',\n",
       " 'Rishabh CS C',\n",
       " 'Shivanccha CS C',\n",
       " 'Vishal Gupta CS C',\n",
       " 'Somesh Bajpai CS C',\n",
       " '+91 90584 89650',\n",
       " 'Yash Bansal CS C',\n",
       " 'Saksham Agrawal Cs C',\n",
       " '+91 73909 57620',\n",
       " 'Ritika Sharma Cs C',\n",
       " '+91 90454 11600',\n",
       " 'Saurabh Agrahari Cs C',\n",
       " '+91 98914 42185',\n",
       " 'Tanisha Verma CS C',\n",
       " 'Suraj Verma',\n",
       " 'Shrutti Nigam CS C',\n",
       " 'Swarnima CS C',\n",
       " '+91 6391 636 369',\n",
       " 'Veenus CS C',\n",
       " 'Sameer CS C',\n",
       " 'Simran Yadav CS C',\n",
       " 'Saurabh',\n",
       " 'Vraddhi Verma CS C',\n",
       " 'Raj Chauhan CS C',\n",
       " 'Ratan Savarkar Cs C',\n",
       " 'Vaaruni CS C',\n",
       " 'Yash Verma CS C',\n",
       " 'Rupesh Verma CS C',\n",
       " 'Shreyansh CS C',\n",
       " 'Sumit CS C',\n",
       " 'Shagun Kesarwani CS C',\n",
       " 'Shubhansh CS',\n",
       " '3 Page Vishakha',\n",
       " '+91 99119 07174',\n",
       " 'Smeer Jha CS C',\n",
       " 'Sanskaar Cs C',\n",
       " '+91 83778 22068',\n",
       " '+91 84481 41122',\n",
       " 'Sahil CS C',\n",
       " 'Tanya Mehta CS C',\n",
       " '+91 6394 087 585',\n",
       " 'Yogesh CS C',\n",
       " 'Sanjay Kr Singh CS C',\n",
       " 'Rishabh Bajpai',\n",
       " 'Saujanya Jain',\n",
       " 'Shicanshu CS C',\n",
       " 'Mehta Cs C',\n",
       " 'Rishabh_29 CS C',\n",
       " 'Shri Om CS C',\n",
       " 'Sagar CS C',\n",
       " 'Shreya Sahrma CS C',\n",
       " 'Vishakha CS C',\n",
       " 'Yuvraj Singh CS C']"
      ]
     },
     "execution_count": 60,
     "metadata": {},
     "output_type": "execute_result"
    }
   ],
   "source": [
    "#opening the file and making a list out of them \n",
    "listed_messages  = list(open('Data.txt',encoding = 'utf-8'))\n",
    "list_user = list(open('list_user.txt',encoding = 'utf-8'))\n",
    "list_user2 = []\n",
    "\n",
    "# removing \\n from the last of every element of list_user\n",
    "for i in list_user:\n",
    "    list_user2.append(i[:-1])\n",
    "list_user2"
   ]
  },
  {
   "cell_type": "code",
   "execution_count": 103,
   "metadata": {},
   "outputs": [],
   "source": [
    "# making user class\n",
    "class User:\n",
    "\n",
    "    data = listed_messages\n",
    "    t_m_l = 0\n",
    "    \n",
    "    def __init__(self, name):\n",
    "        self.name = name\n",
    "    \n",
    "    #making a list of all the messages\n",
    "    def all_mesgs(self):\n",
    "        l_all_mesgs = []\n",
    "        for i in self.data:\n",
    "            if self.name in i:\n",
    "                l_all_mesgs.append(i)\n",
    "        return l_all_mesgs\n",
    "\n",
    "    #finding total length of the messages\n",
    "    def total_mesg_length(self):\n",
    "        mesgs = self.all_mesgs()\n",
    "        t_m_l = 0 \n",
    "        for i in mesgs:\n",
    "           t_m_l += len(i) - (i.index(self.name) + len(self.name))\n",
    "        return t_m_l\n",
    "\n",
    "\n",
    "    # finding the average length of the messages\n",
    "    def av_msg_len(self):\n",
    "        tot_len = self.total_mesg_length()\n",
    "        mesgs = self.all_mesgs()\n",
    "        return tot_len / len(mesgs)\n",
    "        \n",
    "    \n"
   ]
  },
  {
   "cell_type": "code",
   "execution_count": 104,
   "metadata": {},
   "outputs": [],
   "source": [
    "rishabh = User(name = \"Rishabh CS C\")"
   ]
  },
  {
   "cell_type": "code",
   "execution_count": 105,
   "metadata": {},
   "outputs": [
    {
     "data": {
      "text/plain": [
       "33.333333333333336"
      ]
     },
     "execution_count": 105,
     "metadata": {},
     "output_type": "execute_result"
    }
   ],
   "source": [
    "rishabh.av_msg_len()"
   ]
  },
  {
   "cell_type": "code",
   "execution_count": null,
   "metadata": {},
   "outputs": [],
   "source": []
  }
 ],
 "metadata": {
  "interpreter": {
   "hash": "d9feab5a1f5d805ccfa6afac8eb9a08ce4745df9a38ca9beb1bb90cbf90b919c"
  },
  "kernelspec": {
   "display_name": "Python 3.9.7 64-bit",
   "language": "python",
   "name": "python3"
  },
  "language_info": {
   "codemirror_mode": {
    "name": "ipython",
    "version": 3
   },
   "file_extension": ".py",
   "mimetype": "text/x-python",
   "name": "python",
   "nbconvert_exporter": "python",
   "pygments_lexer": "ipython3",
   "version": "3.9.7"
  },
  "orig_nbformat": 4
 },
 "nbformat": 4,
 "nbformat_minor": 2
}

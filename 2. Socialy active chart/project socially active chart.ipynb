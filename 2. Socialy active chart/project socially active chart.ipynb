{
 "cells": [
  {
   "cell_type": "code",
   "execution_count": 18,
   "metadata": {},
   "outputs": [],
   "source": [
    "#open the file without any saved numbers here. \n",
    "raw_messages = open('WhatsApp Chat with Unofficial CS-C_new.txt',encoding = 'utf-8')\n",
    "# list the file\n",
    "listed_messages = list(raw_messages)"
   ]
  },
  {
   "cell_type": "code",
   "execution_count": 19,
   "metadata": {},
   "outputs": [],
   "source": [
    "# make a list of string, where strings start with dates.\n",
    "listofstrings_without_dates = []\n",
    "index_postion_dash = 0\n",
    "for i in range(len(listed_messages)):\n",
    "    index_postion_dash = listed_messages[i].find(' - ')\n",
    "    string_without_date = listed_messages[i][index_postion_dash + 3:]\n",
    "    listofstrings_without_dates.append(string_without_date)\n",
    "# (remove hash to get a list of 10000 rows)listofstrings_without_dates\n"
   ]
  },
  {
   "cell_type": "code",
   "execution_count": 20,
   "metadata": {},
   "outputs": [],
   "source": [
    "# now make a list where only list of numbers are shown.\n",
    "only_number_list = []\n",
    "for j in listofstrings_without_dates:\n",
    "    first_semicolon_index = j.find(': ')\n",
    "    if first_semicolon_index == -1:\n",
    "        pass\n",
    "    else:\n",
    "        only_number = j[:first_semicolon_index]\n",
    "        only_number_list.append(only_number)\n",
    "#(remove # and you will get the list) only_number_list\n",
    "# now enters the counter function from collection module\n",
    "from collections import Counter\n",
    "frequency = Counter(only_number_list)"
   ]
  },
  {
   "cell_type": "code",
   "execution_count": 23,
   "metadata": {},
   "outputs": [],
   "source": [
    "#remove the keys that are not starting with +\n",
    "list_frequencychart = list(frequency.items())\n",
    "new_feqeuncy_list_chart = []\n",
    "for i in list_frequencychart:\n",
    "    if i[0][0][0] == '+':\n",
    "        new_feqeuncy_list_chart.append(i)\n",
    "    else:\n",
    "        pass\n",
    "#new_feqeuncy_list_chart"
   ]
  },
  {
   "cell_type": "code",
   "execution_count": 21,
   "metadata": {},
   "outputs": [],
   "source": [
    "#lets test if we got the number of messages somewhere near to how many messages are there\n",
    "messages_sum = 0\n",
    "for i in new_feqeuncy_list_chart:\n",
    "    messages_sum = messages_sum + i[1]\n",
    "#messages_sum\n",
    "#so this was just near to the total number of messges(9954 = proposed sum of messages)"
   ]
  },
  {
   "cell_type": "code",
   "execution_count": 30,
   "metadata": {},
   "outputs": [],
   "source": [
    "# sorting the list. \n",
    "sorted_list_byfrequency = sorted(new_feqeuncy_list_chart,key = lambda x:x[1])"
   ]
  },
  {
   "cell_type": "code",
   "execution_count": 41,
   "metadata": {},
   "outputs": [
    {
     "data": {
      "text/plain": [
       "['+91 91401 71640',\n",
       " '+91 94553 04534',\n",
       " '+91 95999 08381',\n",
       " '+91 89582 79395',\n",
       " '+91 83848 57292',\n",
       " '+91 98378 82844',\n",
       " '+91 81780 55354',\n",
       " '+91 89482 86363',\n",
       " '+91 97112 10854',\n",
       " '+91 84398 03275',\n",
       " '+91 6391 636 369',\n",
       " '+91 788 726 4957',\n",
       " '+91 83039 46361',\n",
       " '+91 74590 49379',\n",
       " '+91 92089 02274',\n",
       " '+91 98103 54726',\n",
       " '+91 72389 98981',\n",
       " '+91 97188 58502',\n",
       " '+91 79836 00861',\n",
       " '+91 98914 59982',\n",
       " '+91 92109 25656',\n",
       " '+91 95826 81154',\n",
       " '+91 76682 93089',\n",
       " '+91 74520 69004',\n",
       " '+91 83060 66046',\n",
       " '+91 89798 74219',\n",
       " '+91 70783 95540',\n",
       " '+91 90454 11600',\n",
       " '+91 98914 42185',\n",
       " '+91 82993 46518',\n",
       " '+91 89577 94988',\n",
       " '+91 70078 17498',\n",
       " '+91 96390 95114',\n",
       " '+91 98701 18809',\n",
       " '+91 78381 49972',\n",
       " '+91 88909 42188',\n",
       " '+91 70680 42842',\n",
       " '+91 95596 83751',\n",
       " '+91 96390 04871',\n",
       " '+91 6386 109 113',\n",
       " '+91 83778 22068',\n",
       " '+91 95542 85888',\n",
       " '+91 6388 243 935',\n",
       " '+91 78300 94481',\n",
       " '+91 73981 03208',\n",
       " '+91 76789 14927',\n",
       " '+91 6394 087 585',\n",
       " '+91 97181 06332',\n",
       " '+91 83685 45173',\n",
       " '+91 73021 16856']"
      ]
     },
     "execution_count": 41,
     "metadata": {},
     "output_type": "execute_result"
    }
   ],
   "source": [
    "# since i dont know how to plot a file in python i will do it in excel.\n",
    "#make a list of x variables\n",
    "xvariables = []\n",
    "for i in sorted_list_byfrequency:\n",
    "    xvariables.append(i[0])\n",
    "#xvariables\n",
    "yvariable = []\n",
    "for i in sorted_list_byfrequency:\n",
    "    yvariable.append(i[1])\n",
    "\n",
    "xvariables\n",
    "#make a list of y variables\n"
   ]
  },
  {
   "cell_type": "code",
   "execution_count": 31,
   "metadata": {},
   "outputs": [],
   "source": [
    "#here you will have a list of numbers along wiht their frequency, but now you will have to match them with their names which i will get from the csv file of google contacts"
   ]
  },
  {
   "cell_type": "code",
   "execution_count": 35,
   "metadata": {},
   "outputs": [
    {
     "data": {
      "text/plain": [
       "'+91 94553 04534'"
      ]
     },
     "execution_count": 35,
     "metadata": {},
     "output_type": "execute_result"
    }
   ],
   "source": [
    "sorted_list_byfrequency[1][0]"
   ]
  },
  {
   "cell_type": "code",
   "execution_count": null,
   "metadata": {},
   "outputs": [],
   "source": []
  }
 ],
 "metadata": {
  "kernelspec": {
   "display_name": "Python 3",
   "language": "python",
   "name": "python3"
  },
  "language_info": {
   "codemirror_mode": {
    "name": "ipython",
    "version": 3
   },
   "file_extension": ".py",
   "mimetype": "text/x-python",
   "name": "python",
   "nbconvert_exporter": "python",
   "pygments_lexer": "ipython3",
   "version": "3.8.5"
  }
 },
 "nbformat": 4,
 "nbformat_minor": 4
}

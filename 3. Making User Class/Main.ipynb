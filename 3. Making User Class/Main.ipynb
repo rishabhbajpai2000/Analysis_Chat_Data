{
 "cells": [
  {
   "cell_type": "code",
   "execution_count": 1,
   "metadata": {},
   "outputs": [],
   "source": [
    "import re\n",
    "import datetime\n",
    "#opening the file and making a list out of them \n",
    "listed_messages  = list(open('Data.txt',encoding = 'utf-8'))\n",
    "list_user = list(open('list_user.txt',encoding = 'utf-8'))\n",
    "list_user2 = []\n",
    "\n",
    "# removing \\n from the last of every element of list_user\n",
    "for i in list_user:\n",
    "    list_user2.append(i[:-1])\n",
    "\n",
    "\n",
    "#calculating the average number of deleted messager per user. \n",
    "del_msgs_cntr = 0\n",
    "for i in listed_messages:\n",
    "    if \"deleted\" in i:\n",
    "        del_msgs_cntr += 1\n",
    "del_msg_ave_user = int(del_msgs_cntr/len(list_user2))\n"
   ]
  },
  {
   "cell_type": "code",
   "execution_count": 2,
   "metadata": {},
   "outputs": [],
   "source": [
    "# making user class, where you will be required to enter the name of the contact whose information is needed\n",
    "class User:\n",
    "\n",
    "    data = listed_messages\n",
    "    \n",
    "    def __init__(self, name):\n",
    "        self.name = name\n",
    "        \n",
    "\n",
    "\n",
    "    #making a list of all the messages\n",
    "    def all_mesgs(self):\n",
    "        l_all_mesgs = []\n",
    "        for i in self.data:\n",
    "            if self.name in i:\n",
    "                l_all_mesgs.append(i)\n",
    "        return l_all_mesgs\n",
    "\n",
    "\n",
    "\n",
    "    #finding total length of all the messages combined\n",
    "    def total_mesg_length(self, arg = \"m\") :\n",
    "        mesgs = self.all_mesgs()\n",
    "        t_m_l = 0 \n",
    "        for i in mesgs:\n",
    "           t_m_l += len(i) - (i.index(self.name) + len(self.name))\n",
    "\n",
    "        if arg == \"m\":\n",
    "            return f\"{self.name} sent {len(self.all_mesgs())} messages, which in total were {t_m_l} charecters.\"\n",
    "        else:\n",
    "            return t_m_l\n",
    "            \n",
    "\n",
    "\n",
    "    # finding the average length of the messages\n",
    "    def av_msg_len(self,arg = \"\"):\n",
    "        tot_len = self.total_mesg_length(\"n\")\n",
    "        mesgs = self.all_mesgs()\n",
    "\n",
    "        if arg == \"n\":\n",
    "            return int(tot_len / len(mesgs)/ 5)\n",
    "        else:\n",
    "            return print(f\"{self.name}'s average message was {int(tot_len / len(mesgs)/ 5)} words long\")\n",
    "    \n",
    "    \n",
    "    #finding the number of deleted messages\n",
    "    def del_msg(self, arg = ''):\n",
    "        del_m = 0\n",
    "        for i in self.all_mesgs():\n",
    "            if \"deleted\" in i:\n",
    "                del_m += 1\n",
    "        if arg == 'n':\n",
    "            return del_m\n",
    "        else:\n",
    "            return print(f\"{self.name} deleted {del_m} messages, where as class's average was {del_msg_ave_user}.\")\n",
    "    \n",
    "    #showing the graph of how the number of messages varies with time\n",
    "    \n",
    "\n",
    "    # the sleep time prediction of top three performers, will be doing it only for top three users as only they will have enough data to give results\n",
    "    # yuvraj, vishakha, shreya\n",
    "    def sleep_time(self):\n",
    "        msg_date_time = []\n",
    "        msg_datedottime = []\n",
    "        if (\"Yuvraj\" or \"Vishakha\" or \"Shreya\") in self.name:\n",
    "            for i in self.all_mesgs():\n",
    "                msg_date_time.append(re.findall(r'\\d+/\\d+/\\d{2}, \\d+:\\d{2} \\wM|\\d+/\\d+/\\d{2}, \\d+:\\d{2}',i))\n",
    "                \n",
    "            for i in msg_date_time:\n",
    "                try:\n",
    "                    msg_datedottime.append(datetime.datetime.strptime(i[0],\"%m/%d/%y, %I:%M %p\"))\n",
    "                except:\n",
    "                    msg_datedottime.append(datetime.datetime.strptime(i[0],\"%m/%d/%y, %H:%M\"))\n",
    "            \n",
    "            # for every day in the datetime list\n",
    "            # make a counter variable\n",
    "            # check the counter and\n",
    "        \n",
    "        else:\n",
    "            print(\"You are not elegible for this function to operate. \")\n",
    "        return msg_date_time         \n",
    "\n",
    "\n",
    " "
   ]
  },
  {
   "cell_type": "code",
   "execution_count": 3,
   "metadata": {},
   "outputs": [
    {
     "name": "stdout",
     "output_type": "stream",
     "text": [
      "Rishabh Bajpai sent 1216 messages, which in total were 51127 charecters.\n",
      "Rishabh Bajpai's average message was 8 words long\n",
      "None\n",
      "Rishabh Bajpai deleted 132 messages, where as class's average was 13.\n",
      "None\n"
     ]
    }
   ],
   "source": [
    "   \n",
    "# testing the user class\n",
    "rishabh = User(name = \"Rishabh Bajpai\")\n",
    "# rishabh.all_mesgs()\n",
    "print(rishabh.total_mesg_length())\n",
    "# rishabh.total_mesg_length(\"n\")\n",
    "print(rishabh.av_msg_len())\n",
    "# rishabh.av_msg_len(\"n\")\n",
    "print(rishabh.del_msg())"
   ]
  },
  {
   "cell_type": "code",
   "execution_count": 19,
   "metadata": {},
   "outputs": [
    {
     "name": "stdout",
     "output_type": "stream",
     "text": [
      "2019-09-18 01:55:19\n",
      "2019-09-19 01:55:19\n"
     ]
    }
   ],
   "source": [
    "# ROUGH WORK STARTS FROM HERE\n",
    "\n",
    "date_time_str = '18/09/19 01:55:19'\n",
    "date_time_obj = datetime.datetime.strptime(date_time_str, '%d/%m/%y %H:%M:%S')\n",
    "print(date_time_obj)\n",
    "date_time_obj += datetime.timedelta(days = 1)\n",
    "print(date_time_obj )"
   ]
  },
  {
   "cell_type": "code",
   "execution_count": 55,
   "metadata": {},
   "outputs": [
    {
     "data": {
      "text/plain": [
       "['1/14/21, 2:52 PM']"
      ]
     },
     "execution_count": 55,
     "metadata": {},
     "output_type": "execute_result"
    }
   ],
   "source": [
    "import re\n",
    "# month/date/year\n",
    "string = \"1/14/21, 2:52 PM - Suraj Verma: Har baar white board khol leti hain\"\n",
    "# re.search(\"%d%d/\")\n",
    "one = re.findall(r'\\d+/\\d+/\\d{2}, \\d+:\\d{2} \\wM',string)\n",
    "datetime.strptime(one, )"
   ]
  },
  {
   "cell_type": "code",
   "execution_count": 89,
   "metadata": {},
   "outputs": [
    {
     "data": {
      "text/plain": [
       "datetime.datetime(2021, 9, 29, 20, 11)"
      ]
     },
     "execution_count": 89,
     "metadata": {},
     "output_type": "execute_result"
    }
   ],
   "source": [
    "datetime.strptime(\"9/29/21, 20:11\" ,\"%m/%d/%y, %H:%M\")"
   ]
  }
 ],
 "metadata": {
  "interpreter": {
   "hash": "d9feab5a1f5d805ccfa6afac8eb9a08ce4745df9a38ca9beb1bb90cbf90b919c"
  },
  "kernelspec": {
   "display_name": "Python 3.9.7 64-bit",
   "language": "python",
   "name": "python3"
  },
  "language_info": {
   "codemirror_mode": {
    "name": "ipython",
    "version": 3
   },
   "file_extension": ".py",
   "mimetype": "text/x-python",
   "name": "python",
   "nbconvert_exporter": "python",
   "pygments_lexer": "ipython3",
   "version": "3.9.7"
  },
  "orig_nbformat": 4
 },
 "nbformat": 4,
 "nbformat_minor": 2
}

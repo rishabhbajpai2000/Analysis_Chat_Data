{
 "cells": [
  {
   "cell_type": "markdown",
   "metadata": {},
   "source": [
    "# Idea: Finding the busiest hour of WhatsApp group.\n",
    "\n",
    "PLAN\n",
    "1. Import the file\n",
    "2. Get the data\n",
    "3. Find a list of time and dates\n",
    "4. Strip it to only time is available\n",
    "5. Get the hour\n",
    "6. Convert it to 24 hours format\n",
    "7. Plot a frequency graph of time based in hours\n",
    "\n",
    "Examples of time stamps\n",
    "    \n",
    "    9:40 PM = 21\n",
    "    \n",
    "    11:09 PM = 23\n",
    "\n",
    "    9:40 AM = 9\n",
    "    \n",
    "    11:09 AM = 11"
   ]
  },
  {
   "cell_type": "code",
   "execution_count": 9,
   "metadata": {},
   "outputs": [],
   "source": [
    "#importing regex for searching dates\n",
    "import re\n",
    "\n",
    "#importing counter for counting hour frequency\n",
    "from collections import Counter\n",
    "import collections\n",
    "\n",
    "#To plot the graphs\n",
    "import matplotlib.pyplot as plt"
   ]
  },
  {
   "cell_type": "code",
   "execution_count": 10,
   "metadata": {},
   "outputs": [],
   "source": [
    "#opening the file and making a list out of them \n",
    "listed_messages  = list(open('Data.txt',encoding = 'utf-8'))"
   ]
  },
  {
   "cell_type": "code",
   "execution_count": 11,
   "metadata": {},
   "outputs": [],
   "source": [
    "# Function to extract timestamps from messages, when supplied with a list containing all the messages\n",
    "def list_of_times(list1):\n",
    "    time_list = []\n",
    "    for i in list1:\n",
    "        time_list = time_list + re.findall(r'\\d:\\d\\d AM|\\d\\d:\\d\\d AM | \\d:\\d\\d PM|\\d\\d:\\d\\d PM',i)\n",
    "    return time_list\n"
   ]
  },
  {
   "cell_type": "code",
   "execution_count": 12,
   "metadata": {},
   "outputs": [],
   "source": [
    "#function to convert the time to 24 hour format and returning only hours(takng out minutes)\n",
    "#formats of time are\n",
    "    #12:09 AM\n",
    "    #2:09 AM\n",
    "    #12:09 PM\n",
    "    #2:09 PM\n",
    "def whole_number_hours(time_list):\n",
    "    hours_24 = []\n",
    "    for i in time_list:\n",
    "        if \"AM\" in i:\n",
    "            if len(i) == 7:#why equals to 7? it beasuse length of 9:00 AM is 7 and of 12:00 AM is not 7.\n",
    "                hours_24.append(int(i[0]))\n",
    "            #accounting for 12.30AM to append 0\n",
    "            elif len(i) != 7 and int(i[:2]) == 12:\n",
    "                hours_24.append(int(i[:2])-12)\n",
    "                   \n",
    "            else:\n",
    "                hours_24.append(int(i[:2]))\n",
    "                \n",
    "        if \"PM\" in i:\n",
    "            if len(i) == 7:\n",
    "                hours_24.append(int(i[0]) + 12)\n",
    "            elif len(i) != 7 and int(i[:2]) == 12:\n",
    "                hours_24.append(int(i[:2]))\n",
    "            else:\n",
    "                hours_24.append(int(i[:2]) + 12)\n",
    "    return hours_24"
   ]
  },
  {
   "cell_type": "code",
   "execution_count": 13,
   "metadata": {},
   "outputs": [],
   "source": [
    "#list of timestamps in AM/PM format\n",
    "time_list = list_of_times(listed_messages)\n",
    "whole_hours = whole_number_hours(time_list)"
   ]
  },
  {
   "cell_type": "code",
   "execution_count": 14,
   "metadata": {},
   "outputs": [
    {
     "data": {
      "text/plain": [
       "OrderedDict([(0, 2039),\n",
       "             (1, 340),\n",
       "             (2, 40),\n",
       "             (4, 1),\n",
       "             (5, 1),\n",
       "             (6, 3),\n",
       "             (7, 53),\n",
       "             (8, 191),\n",
       "             (9, 558),\n",
       "             (10, 1662),\n",
       "             (11, 2379),\n",
       "             (12, 2669),\n",
       "             (13, 1295),\n",
       "             (14, 2337),\n",
       "             (15, 2586),\n",
       "             (16, 665),\n",
       "             (17, 688),\n",
       "             (18, 938),\n",
       "             (19, 1690),\n",
       "             (20, 1256),\n",
       "             (21, 1292),\n",
       "             (22, 1537),\n",
       "             (23, 3245)])"
      ]
     },
     "execution_count": 14,
     "metadata": {},
     "output_type": "execute_result"
    }
   ],
   "source": [
    "# making an ordered dictionary out of that generated data\n",
    "dictionary_2 = Counter(whole_hours)\n",
    "dictionary = dict(Counter(whole_hours))\n",
    "od = collections.OrderedDict(sorted(dictionary.items()))\n",
    "od"
   ]
  },
  {
   "cell_type": "code",
   "execution_count": 8,
   "metadata": {},
   "outputs": [
    {
     "data": {
      "text/plain": [
       "<function matplotlib.pyplot.show(close=None, block=None)>"
      ]
     },
     "execution_count": 8,
     "metadata": {},
     "output_type": "execute_result"
    },
    {
     "data": {
      "image/png": "[encoded data removed]",
      "text/plain": [
       "<Figure size 432x288 with 1 Axes>"
      ]
     },
     "metadata": {
      "needs_background": "light"
     },
     "output_type": "display_data"
    }
   ],
   "source": [
    "hours = list(dictionary.keys())\n",
    "frequency = list(dictionary.values())\n",
    "\n",
    "#plotting the graphs using matplotlib\n",
    "plt.bar(hours,frequency)\n",
    "plt.ylabel('frequency')\n",
    "plt.xlabel('hours')\n",
    "plt.show"
   ]
  }
 ],
 "metadata": {
  "kernelspec": {
   "display_name": "Python 3",
   "language": "python",
   "name": "python3"
  },
  "language_info": {
   "codemirror_mode": {
    "name": "ipython",
    "version": 3
   },
   "file_extension": ".py",
   "mimetype": "text/x-python",
   "name": "python",
   "nbconvert_exporter": "python",
   "pygments_lexer": "ipython3",
   "version": "3.9.7"
  }
 },
 "nbformat": 4,
 "nbformat_minor": 4
}

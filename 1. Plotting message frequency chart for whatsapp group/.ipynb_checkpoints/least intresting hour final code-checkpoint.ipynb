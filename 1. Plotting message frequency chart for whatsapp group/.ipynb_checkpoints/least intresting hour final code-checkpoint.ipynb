{
 "cells": [
  {
   "cell_type": "markdown",
   "metadata": {},
   "source": [
    "# Idea: Finding the least busy hour of whatsapp group.\n",
    "1. import the file\n",
    "2. get the data\n",
    "3. find a list of time and dates\n",
    "4. strip it to only time is available\n",
    "5. get the hour\n",
    "6. convert it to 24 hours format\n",
    "7. plot a frequency graph of time based in hours\n",
    "8. **if want to do more then make moving graph of how it has been changing with time.**\n",
    "\n",
    "example of time stamps\n",
    "    \n",
    "    9:40 PM = 21\n",
    "    \n",
    "    11:09 PM = 23\n",
    "\n",
    "    9:40 AM = 9\n",
    "    \n",
    "    11:09 AM = 11"
   ]
  },
  {
   "cell_type": "code",
   "execution_count": 3,
   "metadata": {},
   "outputs": [],
   "source": [
    "#importing regex for searching dates\n",
    "import re\n",
    "\n",
    "#importing collections moudule importig counter for counting hour frequency\n",
    "from collections import Counter\n",
    "\n",
    "#top plot the graphs\n",
    "import matplotlib.pyplot as plt"
   ]
  },
  {
   "cell_type": "code",
   "execution_count": 4,
   "metadata": {},
   "outputs": [],
   "source": [
    "#opening the file.\n",
    "raw_messages = open('Data.txt',encoding = 'utf-8')\n",
    "listed_messages = list(raw_messages)"
   ]
  },
  {
   "cell_type": "code",
   "execution_count": 5,
   "metadata": {},
   "outputs": [],
   "source": [
    "# extracting timestamps from messages\n",
    "def list_of_times(list1):\n",
    "    time_list = []\n",
    "    for i in list1:\n",
    "        time_list = time_list +re.findall(r'\\d:\\d\\d PM|\\d\\d:\\d\\d PM|\\d:\\d\\d AM|\\d\\d:\\d\\d PM',i)\n",
    "    return time_list"
   ]
  },
  {
   "cell_type": "code",
   "execution_count": 6,
   "metadata": {},
   "outputs": [],
   "source": [
    "#list of timestamps in AM/PM format\n",
    "time_list = list_of_times(listed_messages)\n",
    "# len(time_list)"
   ]
  },
  {
   "cell_type": "code",
   "execution_count": 7,
   "metadata": {},
   "outputs": [
    {
     "data": {
      "text/plain": [
       "False"
      ]
     },
     "execution_count": 7,
     "metadata": {},
     "output_type": "execute_result"
    }
   ],
   "source": [
    "time_list[1][:2] == 12"
   ]
  },
  {
   "cell_type": "code",
   "execution_count": 8,
   "metadata": {},
   "outputs": [],
   "source": [
    "#converting to 24 hour format and returning only hours(takng out minutes)\n",
    "#formats of time are\n",
    "    #12:09 AM\n",
    "    #2:09 AM\n",
    "    #12:09 PM\n",
    "    #2:09 PM\n",
    "def whole_number_hours(time_list):\n",
    "    hours_24 = []\n",
    "    for i in time_list:\n",
    "        if \"AM\" in i:\n",
    "            if len(i) == 7:#why equals to 7? it beasuse length of 9:00 AM is 7 and of 12:00 PM is not 7.\n",
    "                hours_24.append(int(i[0]))\n",
    "                \n",
    "            #accounting for 12.30AM to append 0\n",
    "            elif len(i) != 7 and int(i[:2]) == 12:\n",
    "                hours_24.append(int(i[:2])-12)\n",
    "                \n",
    "                \n",
    "            else:\n",
    "                hours_24.append(int(i[:2]))\n",
    "        if \"PM\" in i:\n",
    "            if len(i) == 7:\n",
    "                hours_24.append(int(i[0]) + 12)\n",
    "            elif len(i) != 7 and int(i[:2]) == 12:\n",
    "                hours_24.append(int(i[:2]))\n",
    "            else:\n",
    "                hours_24.append(int(i[:2]) + 12)\n",
    "    return hours_24"
   ]
  },
  {
   "cell_type": "code",
   "execution_count": 9,
   "metadata": {},
   "outputs": [],
   "source": [
    "whole_hours = whole_number_hours(time_list)"
   ]
  },
  {
   "cell_type": "code",
   "execution_count": 12,
   "metadata": {},
   "outputs": [
    {
     "data": {
      "text/plain": [
       "{18: 938,\n",
       " 15: 2586,\n",
       " 19: 1690,\n",
       " 20: 1256,\n",
       " 21: 1292,\n",
       " 22: 1537,\n",
       " 23: 3245,\n",
       " 7: 53,\n",
       " 9: 558,\n",
       " 0: 1662,\n",
       " 1: 2719,\n",
       " 12: 2669,\n",
       " 13: 1295,\n",
       " 14: 2337,\n",
       " 16: 665,\n",
       " 17: 688,\n",
       " 2: 2079,\n",
       " 8: 191,\n",
       " 5: 1,\n",
       " 4: 1,\n",
       " 6: 3}"
      ]
     },
     "execution_count": 12,
     "metadata": {},
     "output_type": "execute_result"
    }
   ],
   "source": [
    "dictionary_2 = Counter(whole_hours)\n",
    "dictionary = dict(Counter(whole_hours))\n",
    "dictionary"
   ]
  },
  {
   "cell_type": "code",
   "execution_count": 13,
   "metadata": {},
   "outputs": [
    {
     "data": {
      "text/plain": [
       "<function matplotlib.pyplot.show(close=None, block=None)>"
      ]
     },
     "execution_count": 13,
     "metadata": {},
     "output_type": "execute_result"
    },
    {
     "data": {
      "image/png": "[encoded data removed]",
      "text/plain": [
       "<Figure size 432x288 with 1 Axes>"
      ]
     },
     "metadata": {
      "needs_background": "light"
     },
     "output_type": "display_data"
    }
   ],
   "source": [
    "hours = list(dictionary.keys())\n",
    "frequency = list(dictionary.values())\n",
    "\n",
    "#plotting the graphs using matplotlib\n",
    "plt.bar(hours,frequency)\n",
    "plt.ylabel('frequency')\n",
    "plt.xlabel('hours')\n",
    "plt.show"
   ]
  },
  {
   "cell_type": "markdown",
   "metadata": {},
   "source": [
    "# what futhur can be done\n",
    "1. make a time varying graph as well, like is it changing with as the dates are movign farward. "
   ]
  },
  {
   "cell_type": "code",
   "execution_count": 18,
   "metadata": {},
   "outputs": [
    {
     "data": {
      "text/plain": [
       "[(23, 3245),\n",
       " (1, 2719),\n",
       " (12, 2669),\n",
       " (15, 2586),\n",
       " (14, 2337),\n",
       " (2, 2079),\n",
       " (19, 1690),\n",
       " (0, 1662),\n",
       " (22, 1537),\n",
       " (13, 1295),\n",
       " (21, 1292),\n",
       " (20, 1256),\n",
       " (18, 938),\n",
       " (17, 688),\n",
       " (16, 665),\n",
       " (9, 558),\n",
       " (8, 191),\n",
       " (7, 53),\n",
       " (6, 3),\n",
       " (5, 1),\n",
       " (4, 1)]"
      ]
     },
     "execution_count": 18,
     "metadata": {},
     "output_type": "execute_result"
    }
   ],
   "source": [
    "busiest_hour = dictionary_2.most_common(1)\n",
    "least_busy = dictionary_2.most_common()\n",
    "least_busy"
   ]
  },
  {
   "cell_type": "code",
   "execution_count": null,
   "metadata": {},
   "outputs": [],
   "source": []
  }
 ],
 "metadata": {
  "kernelspec": {
   "display_name": "Python 3",
   "language": "python",
   "name": "python3"
  },
  "language_info": {
   "codemirror_mode": {
    "name": "ipython",
    "version": 3
   },
   "file_extension": ".py",
   "mimetype": "text/x-python",
   "name": "python",
   "nbconvert_exporter": "python",
   "pygments_lexer": "ipython3",
   "version": "3.8.5"
  }
 },
 "nbformat": 4,
 "nbformat_minor": 4
}

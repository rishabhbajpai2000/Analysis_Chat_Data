{
 "cells": [
  {
   "cell_type": "markdown",
   "metadata": {},
   "source": [
    "# Who were posting messages between 4 and 5 AM"
   ]
  },
  {
   "cell_type": "code",
   "execution_count": 1,
   "metadata": {},
   "outputs": [],
   "source": [
    "#importing regex for searching dates\n",
    "import re\n",
    "\n",
    "#importing counter for counting hour frequency\n",
    "from collections import Counter\n",
    "import collections\n",
    "\n",
    "# to plot the graphs\n",
    "import matplotlib.pyplot as plt"
   ]
  },
  {
   "cell_type": "code",
   "execution_count": 2,
   "metadata": {},
   "outputs": [],
   "source": [
    "#opening the file.\n",
    "listed_messages = list(open('Data.txt',encoding = 'utf-8'))"
   ]
  },
  {
   "cell_type": "code",
   "execution_count": 41,
   "metadata": {},
   "outputs": [],
   "source": [
    "# extracting timestamps from messages\n",
    "def list_of_times(list1):\n",
    "    time_list = []\n",
    "    for i in list1:\n",
    "        time_list = time_list +re.findall(r'4:\\d\\d AM|5:\\d\\d AM',i)\n",
    "    return time_list"
   ]
  },
  {
   "cell_type": "code",
   "execution_count": 42,
   "metadata": {},
   "outputs": [
    {
     "data": {
      "text/plain": [
       "['5:56 AM', '4:01 AM']"
      ]
     },
     "execution_count": 42,
     "metadata": {},
     "output_type": "execute_result"
    }
   ],
   "source": [
    "list_of_times(listed_messages)"
   ]
  },
  {
   "cell_type": "code",
   "execution_count": 6,
   "metadata": {},
   "outputs": [
    {
     "name": "stdout",
     "output_type": "stream",
     "text": [
      "12/15/20, 5:56 AM - Veenus CSE C: This message was deleted\n",
      "\n",
      "12/20/20, 4:01 AM - Raj Chauhan Cse C: bhai, behn koi jaga hai?? bahot shanti hai idhar... 😂😂😂\n",
      "\n"
     ]
    }
   ],
   "source": [
    "for i in listed_messages:\n",
    "    if '5:56 AM' in i:\n",
    "        print(i)\n",
    "    if '4:01 AM' in i:\n",
    "        print(i)"
   ]
  },
  {
   "cell_type": "markdown",
   "metadata": {},
   "source": [
    "###  so in the above output we can clearly see that these two people, Raj Chauhan and Venus Yadav respectively"
   ]
  }
 ],
 "metadata": {
  "kernelspec": {
   "display_name": "Python 3",
   "language": "python",
   "name": "python3"
  },
  "language_info": {
   "codemirror_mode": {
    "name": "ipython",
    "version": 3
   },
   "file_extension": ".py",
   "mimetype": "text/x-python",
   "name": "python",
   "nbconvert_exporter": "python",
   "pygments_lexer": "ipython3",
   "version": "3.9.7"
  }
 },
 "nbformat": 4,
 "nbformat_minor": 4
}

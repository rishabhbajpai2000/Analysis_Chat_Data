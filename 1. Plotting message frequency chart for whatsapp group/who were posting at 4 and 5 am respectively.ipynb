{
 "cells": [
  {
   "cell_type": "code",
   "execution_count": 31,
   "metadata": {},
   "outputs": [],
   "source": [
    "#importing regex for searching dates\n",
    "import re\n",
    "\n",
    "#importing collections moudule importig counter for counting hour frequency\n",
    "from collections import Counter\n",
    "import collections\n",
    "\n",
    "#top plot the graphs\n",
    "import matplotlib.pyplot as plt"
   ]
  },
  {
   "cell_type": "code",
   "execution_count": 32,
   "metadata": {},
   "outputs": [],
   "source": [
    "#opening the file.\n",
    "raw_messages = open('Data.txt',encoding = 'utf-8')\n",
    "listed_messages = list(raw_messages)"
   ]
  },
  {
   "cell_type": "code",
   "execution_count": 41,
   "metadata": {},
   "outputs": [],
   "source": [
    "# extracting timestamps from messages\n",
    "def list_of_times(list1):\n",
    "    time_list = []\n",
    "    for i in list1:\n",
    "        time_list = time_list +re.findall(r'4:\\d\\d AM|5:\\d\\d AM',i)\n",
    "    return time_list"
   ]
  },
  {
   "cell_type": "code",
   "execution_count": 42,
   "metadata": {},
   "outputs": [
    {
     "data": {
      "text/plain": [
       "['5:56 AM', '4:01 AM']"
      ]
     },
     "execution_count": 42,
     "metadata": {},
     "output_type": "execute_result"
    }
   ],
   "source": [
    "list_of_times(listed_messages)"
   ]
  },
  {
   "cell_type": "code",
   "execution_count": null,
   "metadata": {},
   "outputs": [],
   "source": []
  }
 ],
 "metadata": {
  "kernelspec": {
   "display_name": "Python 3",
   "language": "python",
   "name": "python3"
  },
  "language_info": {
   "codemirror_mode": {
    "name": "ipython",
    "version": 3
   },
   "file_extension": ".py",
   "mimetype": "text/x-python",
   "name": "python",
   "nbconvert_exporter": "python",
   "pygments_lexer": "ipython3",
   "version": "3.8.5"
  }
 },
 "nbformat": 4,
 "nbformat_minor": 4
}

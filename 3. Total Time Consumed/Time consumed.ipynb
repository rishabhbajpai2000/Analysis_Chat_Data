{
 "cells": [
  {
   "cell_type": "code",
   "execution_count": 4,
   "metadata": {},
   "outputs": [],
   "source": [
    "#importing the libraries\n",
    "import json"
   ]
  },
  {
   "cell_type": "code",
   "execution_count": 9,
   "metadata": {},
   "outputs": [],
   "source": [
    "# calculating typing speed\n",
    "string = \"One two three four five six seven eight nine ten eleven twelve thirteen fourteen fifteen sixteen seventeen eighteen nineteen twenty\"\n",
    "dist = len(string)\n",
    "\n",
    "# time it took to read write the string from our phones\n",
    "time_r = 37.64\n",
    "time_s = 24.6\n",
    "\n",
    "# calculating the speed by deviding length of the string with the time it took to type it\n",
    "r_cps = dist/time_r \n",
    "s_cps = dist/time_s"
   ]
  },
  {
   "cell_type": "code",
   "execution_count": 10,
   "metadata": {},
   "outputs": [],
   "source": [
    "#opening the file \n",
    "with open('telegram.json', 'r',encoding= \"UTF - 8 \" ) as file:\n",
    "     telegram_backup = json.load(file)"
   ]
  },
  {
   "cell_type": "code",
   "execution_count": 11,
   "metadata": {},
   "outputs": [],
   "source": [
    "# message_list is a list in which individual messages are stored in the form of dictionaries\n",
    "messsage_list = telegram_backup[\"messages\"]"
   ]
  },
  {
   "cell_type": "code",
   "execution_count": 12,
   "metadata": {},
   "outputs": [
    {
     "name": "stdout",
     "output_type": "stream",
     "text": [
      "0\n",
      "7823\n",
      "7824\n",
      "8826\n",
      "12131\n"
     ]
    }
   ],
   "source": [
    "# calculating the total lengths of the messages\n",
    "# also printing out the errors\n",
    "msg_len_ris = 0 \n",
    "msg_len_s = 0\n",
    "for i in range(len(messsage_list)):\n",
    "    try:\n",
    "        if messsage_list[i][\"from\"] == \"Rishabh\":\n",
    "            msg_len_ris = msg_len_ris + len(messsage_list[i][\"text\"])\n",
    "    except:\n",
    "        pass\n",
    "    try:\n",
    "        if messsage_list[i][\"from\"] == \"Samajik Log\":\n",
    "            msg_len_s = msg_len_s + len(messsage_list[i][\"text\"])\n",
    "    except:\n",
    "        print(i)\n",
    "    "
   ]
  },
  {
   "cell_type": "code",
   "execution_count": 22,
   "metadata": {},
   "outputs": [
    {
     "name": "stdout",
     "output_type": "stream",
     "text": [
      "Rishabh spent 23 at telegram, while Shruti Spent 13. \n",
      "Together they spent about 36 hours.\n"
     ]
    }
   ],
   "source": [
    "t_hrs_ris_tele = int((msg_len_ris/r_cps)/3600)\n",
    "t_hrs_s_tele = int((msg_len_s/s_cps)/3600)\n",
    "total_t_hours = t_hrs_ris_tele + t_hrs_s_tele\n"
   ]
  },
  {
   "cell_type": "code",
   "execution_count": 23,
   "metadata": {},
   "outputs": [],
   "source": [
    "#now moving on to whatsapp backup. \n",
    "#declaring the variables. \n",
    "r_msg_list = []\n",
    "s_msg_list = []\n",
    "r_w_msg_len = 0\n",
    "s_w_msg_len = 0\n",
    "\n",
    "#finding the lengths of the name\n",
    "l_1 = len(\"Rishabh Bajpai\")\n",
    "l_2 = len(\"Samajik Log\")"
   ]
  },
  {
   "cell_type": "code",
   "execution_count": 24,
   "metadata": {},
   "outputs": [],
   "source": [
    "with open('WhatsApp.txt', 'r',encoding= \"UTF - 8 \" ) as data_whats:\n",
    "    data_whats = list(data_whats)"
   ]
  },
  {
   "cell_type": "code",
   "execution_count": 25,
   "metadata": {},
   "outputs": [],
   "source": [
    "for i in range(1,len(data_whats)):\n",
    "    try:\n",
    "        k = data_whats[i].find(\"Rishabh Bajpai\")\n",
    "        r_w_msg_len = r_w_msg_len + len(data_whats[i][k + 14:])\n",
    "    except:\n",
    "        print(i)\n",
    "    try:\n",
    "        l = data_whats[i].find(\"Samajik Log\")\n",
    "        s_w_msg_len += len(data_whats[i][l+11:])\n",
    "    except:\n",
    "        print(i)\n",
    "    "
   ]
  },
  {
   "cell_type": "code",
   "execution_count": 33,
   "metadata": {},
   "outputs": [
    {
     "name": "stdout",
     "output_type": "stream",
     "text": [
      "Rishabh spent 23 at telegram, while Shruti Spent 13. \n",
      "Together they spent about 36 hours.\n",
      "Rishabh spent about 126 at what'sApp, While Shruti's is 84. \n",
      "In total it amounted to 210\n",
      "\n",
      " \n",
      " \n",
      "Both combined, it amount to whooping 246 hours\n"
     ]
    }
   ],
   "source": [
    "time_whatsapp_r = int((r_w_msg_len/r_cps)/3600)\n",
    "time_whatsapp_s = int((s_w_msg_len/s_cps)/3600)\n",
    "\n",
    "print(f\"Rishabh spent {(t_hrs_ris_tele)} at telegram, while Shruti Spent {t_hrs_s_tele}. \\nTogether they spent about {total_t_hours} hours.\")\n",
    "print(f\"Rishabh spent about {time_whatsapp_r} at what'sApp, While Shruti's is {time_whatsapp_s}. \\nIn total it amounted to {time_whatsapp_s+time_whatsapp_r}\")\n",
    "print(f\"\\n \\n \\nBoth combined, it amount to whooping {t_hrs_ris_tele + t_hrs_s_tele + time_whatsapp_s+time_whatsapp_r} hours\")"
   ]
  },
  {
   "cell_type": "code",
   "execution_count": null,
   "metadata": {},
   "outputs": [],
   "source": []
  }
 ],
 "metadata": {
  "interpreter": {
   "hash": "f503b56558c46d204a111f74a83a143ba1ab127c3648c64e2b4948d03fc29461"
  },
  "kernelspec": {
   "display_name": "Python 3.9.6 64-bit",
   "name": "python3"
  },
  "language_info": {
   "codemirror_mode": {
    "name": "ipython",
    "version": 3
   },
   "file_extension": ".py",
   "mimetype": "text/x-python",
   "name": "python",
   "nbconvert_exporter": "python",
   "pygments_lexer": "ipython3",
   "version": "3.8.8"
  },
  "orig_nbformat": 4
 },
 "nbformat": 4,
 "nbformat_minor": 2
}

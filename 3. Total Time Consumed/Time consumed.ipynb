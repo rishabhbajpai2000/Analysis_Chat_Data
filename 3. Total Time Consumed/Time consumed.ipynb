{
 "cells": [
  {
   "cell_type": "code",
   "execution_count": 13,
   "source": [
    "#importing the libraries\r\n",
    "import json"
   ],
   "outputs": [],
   "metadata": {}
  },
  {
   "cell_type": "code",
   "execution_count": 11,
   "source": [
    "# calculating typing speed\r\n",
    "dist = len(\"One two three four five six seven eight nine ten eleven twelve thirteen fourteen fifteen sixteen seventeen eighteen nineteen twenty\")\r\n",
    "time_r = 37.64\r\n",
    "time_s = 24.6\r\n",
    "r_cps = dist/time_r \r\n",
    "s_cps = dist/time_s"
   ],
   "outputs": [],
   "metadata": {}
  },
  {
   "cell_type": "code",
   "execution_count": 14,
   "source": [
    "#opening the file \r\n",
    "with open('telegram.json', 'r',encoding= \"UTF - 8 \" ) as file:\r\n",
    "     telegram_backup = json.load(file)"
   ],
   "outputs": [],
   "metadata": {}
  },
  {
   "cell_type": "code",
   "execution_count": 15,
   "source": [
    "# message_list is a list in which indisual messages are stored in the form of dictionaries\r\n",
    "messsage_list = telegram_backup[\"messages\"]"
   ],
   "outputs": [],
   "metadata": {}
  },
  {
   "cell_type": "code",
   "execution_count": 16,
   "source": [
    "msg_len_ris = 0 \r\n",
    "msg_len_s = 0\r\n",
    "for i in range(len(messsage_list)):\r\n",
    "    try:\r\n",
    "        if messsage_list[i][\"from\"] == \"Rishabh\":\r\n",
    "            msg_len_ris = msg_len_ris + len(messsage_list[i][\"text\"])\r\n",
    "    except:\r\n",
    "        pass\r\n",
    "    try:\r\n",
    "        if messsage_list[i][\"from\"] == \"Samajik Log\":\r\n",
    "            msg_len_s = msg_len_s + len(messsage_list[i][\"text\"])\r\n",
    "    except:\r\n",
    "        print(i)\r\n",
    "    "
   ],
   "outputs": [
    {
     "output_type": "stream",
     "name": "stdout",
     "text": [
      "0\n",
      "7823\n",
      "7824\n",
      "8826\n",
      "12131\n"
     ]
    }
   ],
   "metadata": {}
  },
  {
   "cell_type": "code",
   "execution_count": 17,
   "source": [
    "msg_len_s"
   ],
   "outputs": [
    {
     "output_type": "execute_result",
     "data": {
      "text/plain": [
       "263872"
      ]
     },
     "metadata": {},
     "execution_count": 17
    }
   ],
   "metadata": {}
  },
  {
   "cell_type": "code",
   "execution_count": 18,
   "source": [
    "t_hrs_ris_tele = (msg_len_ris/r_cps)/3600\r\n",
    "t_hrs_s_tele = (msg_len_s/s_cps)/3600\r\n",
    "total_t_hours = t_hrs_ris_tele + t_hrs_s_tele"
   ],
   "outputs": [],
   "metadata": {}
  },
  {
   "cell_type": "code",
   "execution_count": 19,
   "source": [
    "#now moving on two whatsapp backup. \r\n",
    "#declaring the variables. \r\n",
    "r_msg_list = []\r\n",
    "s_msg_list = []\r\n",
    "r_w_msg_len = 0\r\n",
    "s_w_msg_len = 0\r\n",
    "\r\n",
    "#finding the lengths of the name\r\n",
    "l_1 = len(\"Rishabh Bajpai\")\r\n",
    "l_2 = len(\"Samajik Log\")\r\n",
    "l_2\r\n",
    "\r\n"
   ],
   "outputs": [
    {
     "output_type": "execute_result",
     "data": {
      "text/plain": [
       "11"
      ]
     },
     "metadata": {},
     "execution_count": 19
    }
   ],
   "metadata": {}
  },
  {
   "cell_type": "code",
   "execution_count": 20,
   "source": [
    "with open('WhatsApp.txt', 'r',encoding= \"UTF - 8 \" ) as data_whats:\r\n",
    "    data_whats = list(data_whats)"
   ],
   "outputs": [],
   "metadata": {}
  },
  {
   "cell_type": "code",
   "execution_count": 21,
   "source": [
    "data_whats[1].find(\"Rishabh Bajpai\")"
   ],
   "outputs": [
    {
     "output_type": "execute_result",
     "data": {
      "text/plain": [
       "20"
      ]
     },
     "metadata": {},
     "execution_count": 21
    }
   ],
   "metadata": {}
  },
  {
   "cell_type": "code",
   "execution_count": 22,
   "source": [
    "for i in range(1,len(data_whats)):\r\n",
    "    try:\r\n",
    "        k = data_whats[i].find(\"Rishabh Bajpai\")\r\n",
    "        r_w_msg_len = r_w_msg_len + len(data_whats[i][k + 14:])\r\n",
    "    except:\r\n",
    "        print(i)\r\n",
    "    try:\r\n",
    "        l = data_whats[i].find(\"Samajik Log\")\r\n",
    "        s_w_msg_len += len(data_whats[i][l+11:])\r\n",
    "    except:\r\n",
    "        print(i)\r\n",
    "    "
   ],
   "outputs": [],
   "metadata": {}
  },
  {
   "cell_type": "code",
   "execution_count": 26,
   "source": [
    "time_whatsapp_r = (r_w_msg_len/r_cps)/3600\r\n",
    "time_whatsapp_s = (s_w_msg_len/s_cps)/3600"
   ],
   "outputs": [],
   "metadata": {}
  },
  {
   "cell_type": "code",
   "execution_count": 29,
   "source": [
    "r_w_msg_len/5"
   ],
   "outputs": [
    {
     "output_type": "execute_result",
     "data": {
      "text/plain": [
       "317303.6"
      ]
     },
     "metadata": {},
     "execution_count": 29
    }
   ],
   "metadata": {}
  },
  {
   "cell_type": "code",
   "execution_count": 30,
   "source": [
    "s_w_msg_len/5"
   ],
   "outputs": [
    {
     "output_type": "execute_result",
     "data": {
      "text/plain": [
       "324588.0"
      ]
     },
     "metadata": {},
     "execution_count": 30
    }
   ],
   "metadata": {}
  },
  {
   "cell_type": "code",
   "execution_count": null,
   "source": [],
   "outputs": [],
   "metadata": {}
  }
 ],
 "metadata": {
  "orig_nbformat": 4,
  "language_info": {
   "name": "python",
   "version": "3.9.6",
   "mimetype": "text/x-python",
   "codemirror_mode": {
    "name": "ipython",
    "version": 3
   },
   "pygments_lexer": "ipython3",
   "nbconvert_exporter": "python",
   "file_extension": ".py"
  },
  "kernelspec": {
   "name": "python3",
   "display_name": "Python 3.9.6 64-bit"
  },
  "interpreter": {
   "hash": "f503b56558c46d204a111f74a83a143ba1ab127c3648c64e2b4948d03fc29461"
  }
 },
 "nbformat": 4,
 "nbformat_minor": 2
}